{
 "cells": [
  {
   "cell_type": "code",
   "execution_count": 1,
   "metadata": {},
   "outputs": [],
   "source": [
    "import pandas as pd\n",
    "import os"
   ]
  },
  {
   "cell_type": "code",
   "execution_count": 2,
   "metadata": {},
   "outputs": [
    {
     "data": {
      "text/plain": [
       "'d:\\\\DL\\\\Live project\\\\DL-Inuron_Assignment_2\\\\research'"
      ]
     },
     "execution_count": 2,
     "metadata": {},
     "output_type": "execute_result"
    }
   ],
   "source": [
    "%pwd"
   ]
  },
  {
   "cell_type": "code",
   "execution_count": 3,
   "metadata": {},
   "outputs": [],
   "source": [
    "os.chdir('../')"
   ]
  },
  {
   "cell_type": "code",
   "execution_count": 4,
   "metadata": {},
   "outputs": [
    {
     "data": {
      "text/plain": [
       "'d:\\\\DL\\\\Live project\\\\DL-Inuron_Assignment_2'"
      ]
     },
     "execution_count": 4,
     "metadata": {},
     "output_type": "execute_result"
    }
   ],
   "source": [
    "%pwd"
   ]
  },
  {
   "cell_type": "code",
   "execution_count": 92,
   "metadata": {},
   "outputs": [],
   "source": [
    "from dataclasses import dataclass\n",
    "from pathlib import Path\n",
    "\n",
    "\n",
    "@dataclass(frozen=True)\n",
    "class TrainingConfig:\n",
    "    root_dir: Path\n",
    "    trained_model_path: Path\n",
    "    train_data: Path\n",
    "    test_data: Path\n",
    "    params_epochs: int\n",
    "    params_batch_size: int\n",
    "    params_is_augmentation: bool\n",
    "    params_image_size: list\n",
    "    params_rotation_range: int\n",
    "    params_width_shift_range: float \n",
    "    params_height_shift_range: float\n",
    "    params_horizontal_flip: bool"
   ]
  },
  {
   "cell_type": "code",
   "execution_count": 71,
   "metadata": {},
   "outputs": [],
   "source": [
    "from dl_assignment2.constants import *\n",
    "from dl_assignment2.constants import *\n",
    "from dl_assignment2.utils.common import read_yaml, create_directories\n",
    "import tensorflow as tf"
   ]
  },
  {
   "cell_type": "code",
   "execution_count": 93,
   "metadata": {},
   "outputs": [],
   "source": [
    "class ConfigurationManager:\n",
    "    def __init__(\n",
    "        self,\n",
    "        config_filepath = CONFIG_FILE_PATH,\n",
    "        params_filepath = PARAMS_FILE_PATH):\n",
    "\n",
    "        self.config = read_yaml(config_filepath)\n",
    "        self.params = read_yaml(params_filepath)\n",
    "\n",
    "        create_directories([self.config.artifacts_root])\n",
    "    \n",
    "\n",
    "\n",
    "    def get_training_config(self) -> TrainingConfig:\n",
    "        training = self.config.training\n",
    "        params = self.params\n",
    "        create_directories([\n",
    "            Path(training.root_dir)\n",
    "        ])\n",
    "\n",
    "        training_config = TrainingConfig(\n",
    "            root_dir=Path(training.root_dir),\n",
    "            trained_model_path=Path(training.trained_model_path),\n",
    "            train_data=Path(training.train_data),\n",
    "            test_data=Path(training.test_data),\n",
    "            params_epochs=params.EPOCHS,\n",
    "            params_batch_size=params.BATCH_SIZE,\n",
    "            params_is_augmentation=params.AUGMENTATION,\n",
    "            params_image_size=params.IMAGE_SIZE,\n",
    "            params_rotation_range=params.ROTATION_RANGE,\n",
    "            params_width_shift_range=params.WIDTH_SHIFT_RANGE,\n",
    "            params_height_shift_range=params.HEIGHT_SHIFT_RANGE,\n",
    "            params_horizontal_flip=params.HORIZONTAL_FLIP,\n",
    "        )\n",
    "\n",
    "        return training_config"
   ]
  },
  {
   "cell_type": "code",
   "execution_count": 99,
   "metadata": {},
   "outputs": [],
   "source": [
    "import os\n",
    "import urllib.request as request\n",
    "from zipfile import ZipFile\n",
    "import tensorflow as tf\n",
    "import time\n",
    "import pickle\n",
    "import numpy as np\n",
    "from tensorflow.keras.utils import to_categorical\n",
    "from tensorflow.keras.models import Sequential\n",
    "from tensorflow.keras.layers import Conv2D, MaxPooling2D, Flatten, Dense, Dropout\n",
    "from tensorflow.keras.preprocessing.image import ImageDataGenerator\n",
    "from tensorflow.keras.layers import BatchNormalization, GlobalAveragePooling2D"
   ]
  },
  {
   "cell_type": "code",
   "execution_count": 102,
   "metadata": {},
   "outputs": [],
   "source": [
    "class Training:\n",
    "    def __init__(self, config: TrainingConfig):\n",
    "        self.config = config\n",
    "\n",
    "    \n",
    "    # Function to load a CIFAR-10 batch\n",
    "    def load_cifar10_batch(self,file_path):\n",
    "        with open(file_path, 'rb') as f:\n",
    "            data_dict = pickle.load(f, encoding='bytes')\n",
    "        return data_dict[b'data'], np.array(data_dict[b'labels'])\n",
    "\n",
    "    def load_data(self,):\n",
    "        X_train = []\n",
    "        y_train = []\n",
    "        for i in range(1, 6):  # Loop through 5 training batches\n",
    "            data, labels = self.load_cifar10_batch(os.path.join(self.config.train_data, f\"data_batch_{i}\"))\n",
    "            X_train.append(data)\n",
    "            y_train.append(labels)\n",
    "\n",
    "        # Convert list to numpy array\n",
    "        X_train = np.vstack(X_train)\n",
    "        y_train = np.hstack(y_train)\n",
    "\n",
    "        # Load testing data\n",
    "        X_test, y_test = self.load_cifar10_batch(self.config.test_data)\n",
    "\n",
    "        # Reshape images from (num_samples, 3072) to (num_samples, 32, 32, 3)\n",
    "        X_train = X_train.reshape(-1, 32, 32, 3)\n",
    "        X_test = X_test.reshape(-1, 32, 32, 3)\n",
    "\n",
    "        # Normalize pixel values to range [0,1]\n",
    "        X_train = X_train.astype('float32') / 255.0\n",
    "        X_test = X_test.astype('float32') / 255.0\n",
    "\n",
    "        # Convert class labels to one-hot vectors\n",
    "        y_train = to_categorical(y_train, 100)\n",
    "        y_test = to_categorical(y_test, 100)\n",
    "        \n",
    "        return X_train, X_test, y_train, y_test\n",
    "    \n",
    "    @staticmethod\n",
    "    def save_model(path: Path, model):\n",
    "        model.save(path)\n",
    "\n",
    "    def define_model(self):\n",
    "       # Define the CNN model\n",
    "        model = Sequential([\n",
    "                        Conv2D(32, (3,3), activation='relu', padding='same', input_shape=(32, 32, 3)),\n",
    "                        BatchNormalization(),\n",
    "                        MaxPooling2D(2, 2),\n",
    "\n",
    "                        Conv2D(64, (3,3), activation='relu', padding='same'),\n",
    "                        BatchNormalization(),\n",
    "                        MaxPooling2D(2, 2),\n",
    "\n",
    "                        Conv2D(128, (3,3), activation='relu', padding='same'),\n",
    "                        BatchNormalization(),\n",
    "                        MaxPooling2D(2, 2),\n",
    "\n",
    "                        Conv2D(256, (3,3), activation='relu', padding='same'),\n",
    "                        BatchNormalization(),\n",
    "                        GlobalAveragePooling2D(),\n",
    "\n",
    "                        Dense(512, activation='relu'),\n",
    "                        Dropout(0.5),\n",
    "                        Dense(100, activation='softmax')  # 100 classes for CIFAR-100\n",
    "                    ])\n",
    "        model.compile(optimizer='adam', loss='categorical_crossentropy', metrics=['accuracy'])\n",
    "        return model\n",
    "    \n",
    "    def model_train(self,model, X_train, X_test, y_train, y_test):\n",
    "        datagen = ImageDataGenerator(\n",
    "            rotation_range=self.config.params_rotation_range,\n",
    "            width_shift_range=self.config.params_width_shift_range,\n",
    "            height_shift_range=self.config.params_height_shift_range,\n",
    "            horizontal_flip=self.config.params_horizontal_flip\n",
    "        )\n",
    "\n",
    "        datagen.fit(X_train)\n",
    "\n",
    "        # Train the model\n",
    "        model.fit(datagen.flow(X_train, y_train, batch_size=self.config.params_batch_size),\n",
    "                            validation_data=(X_test, y_test),\n",
    "                            epochs=self.config.params_epochs,\n",
    "                            verbose=1)\n",
    "\n",
    "        self.save_model(\n",
    "            path=self.config.trained_model_path,\n",
    "            model=model\n",
    "        )"
   ]
  },
  {
   "cell_type": "code",
   "execution_count": 104,
   "metadata": {},
   "outputs": [
    {
     "name": "stdout",
     "output_type": "stream",
     "text": [
      "[2025-03-04 19:35:07,769: INFO: common: yaml file: config\\config.yaml loaded successfully]\n",
      "[2025-03-04 19:35:07,787: INFO: common: yaml file: params.yaml loaded successfully]\n",
      "[2025-03-04 19:35:07,788: INFO: common: created directory at: artifacts]\n",
      "[2025-03-04 19:35:07,790: INFO: common: created directory at: artifacts\\training]\n",
      "Epoch 1/50\n",
      "782/782 [==============================] - 149s 188ms/step - loss: 1.7516 - accuracy: 0.3769 - val_loss: 2.2806 - val_accuracy: 0.3534\n",
      "Epoch 2/50\n",
      "782/782 [==============================] - 134s 172ms/step - loss: 1.4592 - accuracy: 0.4764 - val_loss: 1.6973 - val_accuracy: 0.4530\n",
      "Epoch 3/50\n",
      "782/782 [==============================] - 137s 175ms/step - loss: 1.3630 - accuracy: 0.5148 - val_loss: 1.8742 - val_accuracy: 0.3963\n",
      "Epoch 4/50\n",
      "782/782 [==============================] - 141s 180ms/step - loss: 1.2977 - accuracy: 0.5377 - val_loss: 1.6957 - val_accuracy: 0.4439\n",
      "Epoch 5/50\n",
      "782/782 [==============================] - 137s 175ms/step - loss: 1.2477 - accuracy: 0.5577 - val_loss: 1.9640 - val_accuracy: 0.4448\n",
      "Epoch 6/50\n",
      "782/782 [==============================] - 133s 170ms/step - loss: 1.1989 - accuracy: 0.5761 - val_loss: 1.5407 - val_accuracy: 0.5028\n",
      "Epoch 7/50\n",
      "782/782 [==============================] - 134s 171ms/step - loss: 1.1693 - accuracy: 0.5898 - val_loss: 1.6386 - val_accuracy: 0.5091\n",
      "Epoch 8/50\n",
      "782/782 [==============================] - 133s 171ms/step - loss: 1.1404 - accuracy: 0.5988 - val_loss: 1.2855 - val_accuracy: 0.5734\n",
      "Epoch 9/50\n",
      "782/782 [==============================] - 134s 171ms/step - loss: 1.1120 - accuracy: 0.6068 - val_loss: 1.2943 - val_accuracy: 0.5676\n",
      "Epoch 10/50\n",
      "782/782 [==============================] - 132s 169ms/step - loss: 1.0906 - accuracy: 0.6164 - val_loss: 2.0971 - val_accuracy: 0.4266\n",
      "Epoch 11/50\n",
      "782/782 [==============================] - 133s 170ms/step - loss: 1.0736 - accuracy: 0.6204 - val_loss: 1.4074 - val_accuracy: 0.5496\n",
      "Epoch 12/50\n",
      "782/782 [==============================] - 133s 170ms/step - loss: 1.0468 - accuracy: 0.6298 - val_loss: 1.2063 - val_accuracy: 0.6059\n",
      "Epoch 13/50\n",
      "782/782 [==============================] - 132s 169ms/step - loss: 1.0435 - accuracy: 0.6331 - val_loss: 1.6504 - val_accuracy: 0.4963\n",
      "Epoch 14/50\n",
      "782/782 [==============================] - 132s 169ms/step - loss: 1.0177 - accuracy: 0.6418 - val_loss: 1.1446 - val_accuracy: 0.6180\n",
      "Epoch 15/50\n",
      "782/782 [==============================] - 132s 169ms/step - loss: 1.0137 - accuracy: 0.6437 - val_loss: 1.2791 - val_accuracy: 0.5892\n",
      "Epoch 16/50\n",
      "782/782 [==============================] - 133s 170ms/step - loss: 0.9937 - accuracy: 0.6499 - val_loss: 1.2136 - val_accuracy: 0.5897\n",
      "Epoch 17/50\n",
      "782/782 [==============================] - 132s 169ms/step - loss: 0.9861 - accuracy: 0.6518 - val_loss: 1.5268 - val_accuracy: 0.5433\n",
      "Epoch 18/50\n",
      "782/782 [==============================] - 133s 170ms/step - loss: 0.9684 - accuracy: 0.6600 - val_loss: 1.6013 - val_accuracy: 0.5426\n",
      "Epoch 19/50\n",
      "782/782 [==============================] - 133s 170ms/step - loss: 0.9607 - accuracy: 0.6617 - val_loss: 1.5021 - val_accuracy: 0.5544\n",
      "Epoch 20/50\n",
      "782/782 [==============================] - 132s 169ms/step - loss: 0.9496 - accuracy: 0.6656 - val_loss: 1.1327 - val_accuracy: 0.6264\n",
      "Epoch 21/50\n",
      "782/782 [==============================] - 133s 170ms/step - loss: 0.9433 - accuracy: 0.6677 - val_loss: 1.0287 - val_accuracy: 0.6548\n",
      "Epoch 22/50\n",
      "782/782 [==============================] - 133s 171ms/step - loss: 0.9275 - accuracy: 0.6730 - val_loss: 1.4487 - val_accuracy: 0.5777\n",
      "Epoch 23/50\n",
      "782/782 [==============================] - 133s 170ms/step - loss: 0.9198 - accuracy: 0.6751 - val_loss: 1.5008 - val_accuracy: 0.5477\n",
      "Epoch 24/50\n",
      "782/782 [==============================] - 133s 171ms/step - loss: 0.9155 - accuracy: 0.6763 - val_loss: 1.2802 - val_accuracy: 0.5916\n",
      "Epoch 25/50\n",
      "782/782 [==============================] - 132s 169ms/step - loss: 0.9063 - accuracy: 0.6804 - val_loss: 2.4026 - val_accuracy: 0.4224\n",
      "Epoch 26/50\n",
      "782/782 [==============================] - 133s 171ms/step - loss: 0.8939 - accuracy: 0.6823 - val_loss: 1.2245 - val_accuracy: 0.6190\n",
      "Epoch 27/50\n",
      "782/782 [==============================] - 131s 168ms/step - loss: 0.8982 - accuracy: 0.6842 - val_loss: 1.6336 - val_accuracy: 0.5656\n",
      "Epoch 28/50\n",
      "782/782 [==============================] - 132s 168ms/step - loss: 0.8847 - accuracy: 0.6872 - val_loss: 2.2211 - val_accuracy: 0.4731\n",
      "Epoch 29/50\n",
      "782/782 [==============================] - 131s 167ms/step - loss: 0.8804 - accuracy: 0.6884 - val_loss: 1.2257 - val_accuracy: 0.5989\n",
      "Epoch 30/50\n",
      "782/782 [==============================] - 133s 171ms/step - loss: 0.8722 - accuracy: 0.6930 - val_loss: 1.0064 - val_accuracy: 0.6677\n",
      "Epoch 31/50\n",
      "782/782 [==============================] - 135s 172ms/step - loss: 0.8574 - accuracy: 0.6984 - val_loss: 1.5026 - val_accuracy: 0.5595\n",
      "Epoch 32/50\n",
      "782/782 [==============================] - 134s 171ms/step - loss: 0.8584 - accuracy: 0.6973 - val_loss: 1.2268 - val_accuracy: 0.6227\n",
      "Epoch 33/50\n",
      "782/782 [==============================] - 131s 167ms/step - loss: 0.8538 - accuracy: 0.6978 - val_loss: 1.2585 - val_accuracy: 0.6168\n",
      "Epoch 34/50\n",
      "782/782 [==============================] - 131s 168ms/step - loss: 0.8466 - accuracy: 0.6981 - val_loss: 1.6204 - val_accuracy: 0.5567\n",
      "Epoch 35/50\n",
      "782/782 [==============================] - 132s 169ms/step - loss: 0.8418 - accuracy: 0.7038 - val_loss: 1.7934 - val_accuracy: 0.5325\n",
      "Epoch 36/50\n",
      "782/782 [==============================] - 185s 236ms/step - loss: 0.8306 - accuracy: 0.7075 - val_loss: 1.2035 - val_accuracy: 0.6190\n",
      "Epoch 37/50\n",
      "782/782 [==============================] - 175s 224ms/step - loss: 0.8280 - accuracy: 0.7091 - val_loss: 1.5173 - val_accuracy: 0.5796\n",
      "Epoch 38/50\n",
      "782/782 [==============================] - 179s 228ms/step - loss: 0.8233 - accuracy: 0.7055 - val_loss: 1.0503 - val_accuracy: 0.6580\n",
      "Epoch 39/50\n",
      "782/782 [==============================] - 170s 217ms/step - loss: 0.8201 - accuracy: 0.7108 - val_loss: 1.0457 - val_accuracy: 0.6690\n",
      "Epoch 40/50\n",
      "782/782 [==============================] - 182s 233ms/step - loss: 0.8134 - accuracy: 0.7130 - val_loss: 1.3757 - val_accuracy: 0.5695\n",
      "Epoch 41/50\n",
      "782/782 [==============================] - 153s 196ms/step - loss: 0.8110 - accuracy: 0.7132 - val_loss: 1.1683 - val_accuracy: 0.6395\n",
      "Epoch 42/50\n",
      "782/782 [==============================] - 181s 231ms/step - loss: 0.8008 - accuracy: 0.7155 - val_loss: 1.0644 - val_accuracy: 0.6529\n",
      "Epoch 43/50\n",
      "782/782 [==============================] - 155s 198ms/step - loss: 0.7958 - accuracy: 0.7172 - val_loss: 1.3191 - val_accuracy: 0.6324\n",
      "Epoch 44/50\n",
      "782/782 [==============================] - 167s 214ms/step - loss: 0.7937 - accuracy: 0.7193 - val_loss: 1.3441 - val_accuracy: 0.6070\n",
      "Epoch 45/50\n",
      "782/782 [==============================] - 164s 210ms/step - loss: 0.7897 - accuracy: 0.7193 - val_loss: 1.0550 - val_accuracy: 0.6684\n",
      "Epoch 46/50\n",
      "782/782 [==============================] - 146s 186ms/step - loss: 0.7832 - accuracy: 0.7217 - val_loss: 1.0583 - val_accuracy: 0.6685\n",
      "Epoch 47/50\n",
      "782/782 [==============================] - 144s 184ms/step - loss: 0.7812 - accuracy: 0.7247 - val_loss: 1.0296 - val_accuracy: 0.6717\n",
      "Epoch 48/50\n",
      "782/782 [==============================] - 163s 209ms/step - loss: 0.7765 - accuracy: 0.7240 - val_loss: 1.1857 - val_accuracy: 0.6453\n",
      "Epoch 49/50\n",
      "782/782 [==============================] - 155s 198ms/step - loss: 0.7693 - accuracy: 0.7270 - val_loss: 1.1932 - val_accuracy: 0.6474\n",
      "Epoch 50/50\n",
      "782/782 [==============================] - 161s 205ms/step - loss: 0.7648 - accuracy: 0.7276 - val_loss: 1.2517 - val_accuracy: 0.6355\n"
     ]
    }
   ],
   "source": [
    "try:\n",
    "    config = ConfigurationManager()\n",
    "    training_config = config.get_training_config()\n",
    "    training = Training(config=training_config)\n",
    "    X_train, X_test, y_train, y_test = training.load_data()\n",
    "    model = training.define_model()\n",
    "    training.model_train(model=model, X_train=X_train, X_test=X_test, y_train=y_train, y_test=y_test)\n",
    "\n",
    "except Exception as e:\n",
    "    raise e"
   ]
  },
  {
   "cell_type": "code",
   "execution_count": 74,
   "metadata": {},
   "outputs": [
    {
     "name": "stdout",
     "output_type": "stream",
     "text": [
      "[2025-03-04 15:00:48,376: INFO: common: yaml file: config\\config.yaml loaded successfully]\n",
      "[2025-03-04 15:00:48,386: INFO: common: yaml file: params.yaml loaded successfully]\n",
      "[2025-03-04 15:00:48,390: INFO: common: created directory at: artifacts]\n",
      "{'artifacts_root': 'artifacts', 'data_ingestion': {'root_dir': 'artifacts/data_ingestion', 'source_URL': 'https://www.cs.toronto.edu/~kriz/cifar-10-python.tar.gz', 'local_data_file': 'artifacts/data_ingestion/data.tar.gz', 'unzip_dir': 'artifacts/data_ingestion'}, 'prepare_base_model': {'root_dir': 'artifacts/prepare_base_model', 'base_model_path': 'artifacts/prepare_base_model/base_model.h5', 'updated_base_model_path': 'artifacts/prepare_base_model/base_model_updated.h5'}, 'training': {'root_dir': 'artifacts/training', 'trained_model_path': 'artifacts/training/model.h5', 'test_data': 'artifacts/data_ingestion/cifar-10-batches-py/test_batch', 'train_data': 'artifacts/data_ingestion/cifar-10-batches-py'}}\n"
     ]
    },
    {
     "ename": "BoxKeyError",
     "evalue": "\"'ConfigBox' object has no attribute 'train_data'\"",
     "output_type": "error",
     "traceback": [
      "\u001b[1;31m---------------------------------------------------------------------------\u001b[0m",
      "\u001b[1;31mKeyError\u001b[0m                                  Traceback (most recent call last)",
      "File \u001b[1;32mc:\\Users\\Sharif\\anaconda3\\envs\\dl\\lib\\site-packages\\box\\box.py:503\u001b[0m, in \u001b[0;36mbox.box.Box.__getitem__\u001b[1;34m()\u001b[0m\n",
      "\u001b[1;31mKeyError\u001b[0m: 'train_data'",
      "\nThe above exception was the direct cause of the following exception:\n",
      "\u001b[1;31mBoxKeyError\u001b[0m                               Traceback (most recent call last)",
      "File \u001b[1;32mc:\\Users\\Sharif\\anaconda3\\envs\\dl\\lib\\site-packages\\box\\box.py:536\u001b[0m, in \u001b[0;36mbox.box.Box.__getattr__\u001b[1;34m()\u001b[0m\n",
      "File \u001b[1;32mc:\\Users\\Sharif\\anaconda3\\envs\\dl\\lib\\site-packages\\box\\box.py:524\u001b[0m, in \u001b[0;36mbox.box.Box.__getitem__\u001b[1;34m()\u001b[0m\n",
      "\u001b[1;31mBoxKeyError\u001b[0m: \"'train_data'\"",
      "\nDuring handling of the above exception, another exception occurred:\n",
      "\u001b[1;31mAttributeError\u001b[0m                            Traceback (most recent call last)",
      "File \u001b[1;32mc:\\Users\\Sharif\\anaconda3\\envs\\dl\\lib\\site-packages\\box\\box.py:538\u001b[0m, in \u001b[0;36mbox.box.Box.__getattr__\u001b[1;34m()\u001b[0m\n",
      "\u001b[1;31mAttributeError\u001b[0m: 'ConfigBox' object has no attribute 'train_data'",
      "\nThe above exception was the direct cause of the following exception:\n",
      "\u001b[1;31mBoxKeyError\u001b[0m                               Traceback (most recent call last)",
      "File \u001b[1;32mc:\\Users\\Sharif\\anaconda3\\envs\\dl\\lib\\site-packages\\box\\config_box.py:28\u001b[0m, in \u001b[0;36mbox.config_box.ConfigBox.__getattr__\u001b[1;34m()\u001b[0m\n",
      "File \u001b[1;32mc:\\Users\\Sharif\\anaconda3\\envs\\dl\\lib\\site-packages\\box\\box.py:552\u001b[0m, in \u001b[0;36mbox.box.Box.__getattr__\u001b[1;34m()\u001b[0m\n",
      "\u001b[1;31mBoxKeyError\u001b[0m: \"'ConfigBox' object has no attribute 'train_data'\"",
      "\nDuring handling of the above exception, another exception occurred:\n",
      "\u001b[1;31mKeyError\u001b[0m                                  Traceback (most recent call last)",
      "File \u001b[1;32mc:\\Users\\Sharif\\anaconda3\\envs\\dl\\lib\\site-packages\\box\\box.py:503\u001b[0m, in \u001b[0;36mbox.box.Box.__getitem__\u001b[1;34m()\u001b[0m\n",
      "\u001b[1;31mKeyError\u001b[0m: 'train_data'",
      "\nThe above exception was the direct cause of the following exception:\n",
      "\u001b[1;31mBoxKeyError\u001b[0m                               Traceback (most recent call last)",
      "File \u001b[1;32mc:\\Users\\Sharif\\anaconda3\\envs\\dl\\lib\\site-packages\\box\\box.py:536\u001b[0m, in \u001b[0;36mbox.box.Box.__getattr__\u001b[1;34m()\u001b[0m\n",
      "File \u001b[1;32mc:\\Users\\Sharif\\anaconda3\\envs\\dl\\lib\\site-packages\\box\\box.py:524\u001b[0m, in \u001b[0;36mbox.box.Box.__getitem__\u001b[1;34m()\u001b[0m\n",
      "\u001b[1;31mBoxKeyError\u001b[0m: \"'train_data'\"",
      "\nDuring handling of the above exception, another exception occurred:\n",
      "\u001b[1;31mAttributeError\u001b[0m                            Traceback (most recent call last)",
      "File \u001b[1;32mc:\\Users\\Sharif\\anaconda3\\envs\\dl\\lib\\site-packages\\box\\box.py:538\u001b[0m, in \u001b[0;36mbox.box.Box.__getattr__\u001b[1;34m()\u001b[0m\n",
      "\u001b[1;31mAttributeError\u001b[0m: 'ConfigBox' object has no attribute 'train_data'",
      "\nThe above exception was the direct cause of the following exception:\n",
      "\u001b[1;31mBoxKeyError\u001b[0m                               Traceback (most recent call last)",
      "Cell \u001b[1;32mIn[74], line 3\u001b[0m\n\u001b[0;32m      1\u001b[0m \u001b[38;5;28;01mimport\u001b[39;00m\u001b[38;5;250m \u001b[39m\u001b[38;5;21;01mmatplotlib\u001b[39;00m\u001b[38;5;21;01m.\u001b[39;00m\u001b[38;5;21;01mpyplot\u001b[39;00m\u001b[38;5;250m \u001b[39m\u001b[38;5;28;01mas\u001b[39;00m\u001b[38;5;250m \u001b[39m\u001b[38;5;21;01mplt\u001b[39;00m\n\u001b[0;32m      2\u001b[0m config \u001b[38;5;241m=\u001b[39m ConfigurationManager()\n\u001b[1;32m----> 3\u001b[0m training_config \u001b[38;5;241m=\u001b[39m \u001b[43mconfig\u001b[49m\u001b[38;5;241;43m.\u001b[39;49m\u001b[43mget_training_config\u001b[49m\u001b[43m(\u001b[49m\u001b[43m)\u001b[49m\n\u001b[0;32m      4\u001b[0m training \u001b[38;5;241m=\u001b[39m Training(config\u001b[38;5;241m=\u001b[39mtraining_config)\n\u001b[0;32m      5\u001b[0m X_train, X_test, y_train, y_test \u001b[38;5;241m=\u001b[39m training\u001b[38;5;241m.\u001b[39mload_data()\n",
      "Cell \u001b[1;32mIn[73], line 18\u001b[0m, in \u001b[0;36mConfigurationManager.get_training_config\u001b[1;34m(self)\u001b[0m\n\u001b[0;32m     16\u001b[0m \u001b[38;5;28mprint\u001b[39m(\u001b[38;5;28mself\u001b[39m\u001b[38;5;241m.\u001b[39mconfig)\n\u001b[0;32m     17\u001b[0m params \u001b[38;5;241m=\u001b[39m \u001b[38;5;28mself\u001b[39m\u001b[38;5;241m.\u001b[39mparams\n\u001b[1;32m---> 18\u001b[0m train_data \u001b[38;5;241m=\u001b[39m \u001b[38;5;28;43mself\u001b[39;49m\u001b[38;5;241;43m.\u001b[39;49m\u001b[43mconfig\u001b[49m\u001b[38;5;241;43m.\u001b[39;49m\u001b[43mtrain_data\u001b[49m\n\u001b[0;32m     19\u001b[0m test_data \u001b[38;5;241m=\u001b[39m \u001b[38;5;28mself\u001b[39m\u001b[38;5;241m.\u001b[39mconfig\u001b[38;5;241m.\u001b[39mtest_data\n\u001b[0;32m     20\u001b[0m create_directories([\n\u001b[0;32m     21\u001b[0m     Path(training\u001b[38;5;241m.\u001b[39mroot_dir)\n\u001b[0;32m     22\u001b[0m ])\n",
      "File \u001b[1;32mc:\\Users\\Sharif\\anaconda3\\envs\\dl\\lib\\site-packages\\box\\config_box.py:30\u001b[0m, in \u001b[0;36mbox.config_box.ConfigBox.__getattr__\u001b[1;34m()\u001b[0m\n",
      "File \u001b[1;32mc:\\Users\\Sharif\\anaconda3\\envs\\dl\\lib\\site-packages\\box\\box.py:552\u001b[0m, in \u001b[0;36mbox.box.Box.__getattr__\u001b[1;34m()\u001b[0m\n",
      "\u001b[1;31mBoxKeyError\u001b[0m: \"'ConfigBox' object has no attribute 'train_data'\""
     ]
    }
   ],
   "source": [
    "import matplotlib.pyplot as plt\n",
    "config = ConfigurationManager()\n",
    "training_config = config.get_training_config()\n",
    "training = Training(config=training_config)\n",
    "X_train, X_test, y_train, y_test = training.load_data()\n",
    "\n",
    "# Load CIFAR-10 class names\n",
    "with open(\"artifacts/data_ingestion/cifar-10-batches-py/batches.meta\", 'rb') as f:\n",
    "    meta = pickle.load(f, encoding='bytes')\n",
    "class_names = [name.decode('utf-8') for name in meta[b'label_names']]\n",
    "\n",
    "# Display some images\n",
    "fig, axes = plt.subplots(2, 5, figsize=(10, 5))\n",
    "for i, ax in enumerate(axes.flat):\n",
    "    ax.imshow(X_train[i])\n",
    "    ax.set_title(class_names[np.argmax(y_train[i])])\n",
    "    ax.axis('off')\n",
    "\n",
    "plt.show()"
   ]
  },
  {
   "cell_type": "code",
   "execution_count": null,
   "metadata": {},
   "outputs": [],
   "source": []
  },
  {
   "cell_type": "code",
   "execution_count": null,
   "metadata": {},
   "outputs": [],
   "source": []
  },
  {
   "cell_type": "code",
   "execution_count": null,
   "metadata": {},
   "outputs": [
    {
     "data": {
      "text/plain": [
       "'artifacts\\\\data_ingestion\\\\cifar-10-batches-py\\\\data_batch_1'"
      ]
     },
     "execution_count": 42,
     "metadata": {},
     "output_type": "execute_result"
    }
   ],
   "source": []
  },
  {
   "cell_type": "code",
   "execution_count": null,
   "metadata": {},
   "outputs": [],
   "source": []
  },
  {
   "cell_type": "code",
   "execution_count": null,
   "metadata": {},
   "outputs": [],
   "source": []
  },
  {
   "cell_type": "code",
   "execution_count": null,
   "metadata": {},
   "outputs": [],
   "source": []
  },
  {
   "cell_type": "code",
   "execution_count": null,
   "metadata": {},
   "outputs": [],
   "source": []
  },
  {
   "cell_type": "code",
   "execution_count": null,
   "metadata": {},
   "outputs": [],
   "source": []
  },
  {
   "cell_type": "code",
   "execution_count": null,
   "metadata": {},
   "outputs": [],
   "source": []
  },
  {
   "cell_type": "code",
   "execution_count": null,
   "metadata": {},
   "outputs": [],
   "source": []
  },
  {
   "cell_type": "code",
   "execution_count": null,
   "metadata": {},
   "outputs": [],
   "source": []
  }
 ],
 "metadata": {
  "kernelspec": {
   "display_name": "dl",
   "language": "python",
   "name": "python3"
  },
  "language_info": {
   "codemirror_mode": {
    "name": "ipython",
    "version": 3
   },
   "file_extension": ".py",
   "mimetype": "text/x-python",
   "name": "python",
   "nbconvert_exporter": "python",
   "pygments_lexer": "ipython3",
   "version": "3.10.16"
  }
 },
 "nbformat": 4,
 "nbformat_minor": 2
}
